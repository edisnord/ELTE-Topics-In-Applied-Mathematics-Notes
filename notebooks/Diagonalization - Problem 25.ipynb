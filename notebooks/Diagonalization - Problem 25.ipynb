{
 "cells": [
  {
   "cell_type": "markdown",
   "id": "2d9f4ccd-3314-4ea1-bfdc-aefa3e13e9b2",
   "metadata": {},
   "source": [
    "## Exercise 25\n",
    "\n",
    "For A:"
   ]
  },
  {
   "cell_type": "code",
   "execution_count": 1,
   "id": "f935023a-dcdc-4414-905f-91b4009bc569",
   "metadata": {},
   "outputs": [
    {
     "data": {
      "text/html": [
       "<html>\\(\\displaystyle A :=  \\left(\\begin{array}{rrrr}\n",
       "-19 & 8 & 96 & 48 \\\\\n",
       "64 & 49 & 16 & 8 \\\\\n",
       "32 & 18 & 21 & 4 \\\\\n",
       "-44 & -28 & -24 & 1\n",
       "\\end{array}\\right)\\)</html>"
      ],
      "text/latex": [
       "$\\displaystyle A :=  \\left(\\begin{array}{rrrr}\n",
       "-19 & 8 & 96 & 48 \\\\\n",
       "64 & 49 & 16 & 8 \\\\\n",
       "32 & 18 & 21 & 4 \\\\\n",
       "-44 & -28 & -24 & 1\n",
       "\\end{array}\\right)$"
      ],
      "text/plain": [
       "A :=  [-19   8  96  48]\n",
       "[ 64  49  16   8]\n",
       "[ 32  18  21   4]\n",
       "[-44 -28 -24   1]"
      ]
     },
     "metadata": {},
     "output_type": "display_data"
    }
   ],
   "source": [
    "M = MatrixSpace(QQ, 4, 4, sparse=False)\n",
    "V = VectorSpace(QQ, 4)\n",
    "A = M([-19, 8, 96, 48,64, 49, 16, 8,32, 18, 21, 4,-44, -28, -24, 1])\n",
    "show(LatexExpr(\"A := \"), A)"
   ]
  },
  {
   "cell_type": "code",
   "execution_count": 2,
   "id": "d55cb85a-cdce-4e55-9e46-c2806553f468",
   "metadata": {},
   "outputs": [
    {
     "data": {
      "text/html": [
       "<html>\\(\\displaystyle b :=  \\left(8,\\,-3,\\,5,\\,1\\right)\\)</html>"
      ],
      "text/latex": [
       "$\\displaystyle b :=  \\left(8,\\,-3,\\,5,\\,1\\right)$"
      ],
      "text/plain": [
       "b :=  (8, -3, 5, 1)"
      ]
     },
     "metadata": {},
     "output_type": "display_data"
    },
    {
     "data": {
      "text/html": [
       "<html>\\(\\displaystyle \\verb|Solve|\\verb| |\\verb|for|\\verb| |\\verb|x|\\verb| |\\verb|in|\\verb| |\\verb|Ax|\\verb| |\\verb|=|\\verb| |\\verb|b|\\)</html>"
      ],
      "text/latex": [
       "$\\displaystyle \\verb|Solve|\\verb| |\\verb|for|\\verb| |\\verb|x|\\verb| |\\verb|in|\\verb| |\\verb|Ax|\\verb| |\\verb|=|\\verb| |\\verb|b|$"
      ],
      "text/plain": [
       "'Solve for x in Ax = b'"
      ]
     },
     "metadata": {},
     "output_type": "display_data"
    }
   ],
   "source": [
    "B = V([8,-3,5,1])\n",
    "show(LatexExpr(\"b := \"),B)\n",
    "show(\"Solve for x in Ax = b\")"
   ]
  },
  {
   "cell_type": "code",
   "execution_count": 3,
   "id": "8de42b5b-9ba9-4f98-9a57-75cb5eb1cd2f",
   "metadata": {},
   "outputs": [
    {
     "name": "stdout",
     "output_type": "stream",
     "text": [
      "We know these two from exercise 22:\n",
      "\n"
     ]
    },
    {
     "data": {
      "text/html": [
       "<html>\\(\\displaystyle K :=  \\left(\\begin{array}{rrrr}\n",
       "-4 & 20 & 1 & 2 \\\\\n",
       "-18 & -14 & -2 & -4 \\\\\n",
       "-9 & -7 & 0 & 1 \\\\\n",
       "14 & 8 & 1 & 0\n",
       "\\end{array}\\right)\\)</html>"
      ],
      "text/latex": [
       "$\\displaystyle K :=  \\left(\\begin{array}{rrrr}\n",
       "-4 & 20 & 1 & 2 \\\\\n",
       "-18 & -14 & -2 & -4 \\\\\n",
       "-9 & -7 & 0 & 1 \\\\\n",
       "14 & 8 & 1 & 0\n",
       "\\end{array}\\right)$"
      ],
      "text/plain": [
       "K :=  [ -4  20   1   2]\n",
       "[-18 -14  -2  -4]\n",
       "[ -9  -7   0   1]\n",
       "[ 14   8   1   0]"
      ]
     },
     "metadata": {},
     "output_type": "display_data"
    },
    {
     "data": {
      "text/html": [
       "<html>\\(\\displaystyle D :=  \\left(\\begin{array}{rrrr}\n",
       "65 & 0 & 0 & 0 \\\\\n",
       "0 & -39 & 0 & 0 \\\\\n",
       "0 & 0 & 13 & 0 \\\\\n",
       "0 & 0 & 0 & 13\n",
       "\\end{array}\\right)\\)</html>"
      ],
      "text/latex": [
       "$\\displaystyle D :=  \\left(\\begin{array}{rrrr}\n",
       "65 & 0 & 0 & 0 \\\\\n",
       "0 & -39 & 0 & 0 \\\\\n",
       "0 & 0 & 13 & 0 \\\\\n",
       "0 & 0 & 0 & 13\n",
       "\\end{array}\\right)$"
      ],
      "text/plain": [
       "D :=  [ 65   0   0   0]\n",
       "[  0 -39   0   0]\n",
       "[  0   0  13   0]\n",
       "[  0   0   0  13]"
      ]
     },
     "metadata": {},
     "output_type": "display_data"
    }
   ],
   "source": [
    "K = M([-4,20,1,2, -18, -14, -2, -4, -9, -7, 0, 1, 14, 8, 1, 0])\n",
    "D = diagonal_matrix(QQ, 4, [65, -39, 13, 13])\n",
    "print(\"We know these two from exercise 22:\\n\")\n",
    "show(LatexExpr(\"K := \"), K)\n",
    "show(LatexExpr(\"D := \"), D)"
   ]
  },
  {
   "cell_type": "markdown",
   "id": "d77e48e7-4224-4720-a7a7-8b3221a8a76e",
   "metadata": {},
   "source": [
    "Given that $A = KDK^{-1}$ and $A^{-1} = KD^{-1}K^{-1}$, the solution to the linear system is $x = A^{-1}b$\n",
    "\n",
    "We only know K and D, so we need to compute $K^{-1}$ and $D^{-1}$. We'll invert K using the adjugate matrix method:\n",
    "\n",
    "$$\n",
    "    A^{-1} = \\frac{1}{det(A)}C^T\n",
    "$$\n",
    "\n",
    "Where $C$ is the cofactor matrix of A. $C^T = \\text{adj}(A)$\n",
    "\n",
    "First, let's compute the determinant of K. We simplify the matrix first so that we only need to compute one of the minors of the first row instead of the usual 4."
   ]
  },
  {
   "cell_type": "code",
   "execution_count": 4,
   "id": "3410c1ea-20e4-4a5c-b2c0-93181b6a96a0",
   "metadata": {},
   "outputs": [
    {
     "data": {
      "text/html": [
       "<html>\\(\\displaystyle C_4 \\leftarrow C_4 - 2C_3\\)</html>"
      ],
      "text/latex": [
       "$\\displaystyle C_4 \\leftarrow C_4 - 2C_3$"
      ],
      "text/plain": [
       "C_4 \\leftarrow C_4 - 2C_3"
      ]
     },
     "metadata": {},
     "output_type": "display_data"
    },
    {
     "data": {
      "text/html": [
       "<html>\\(\\displaystyle \\left(\\begin{array}{rrrr}\n",
       "-4 & 20 & 1 & 0 \\\\\n",
       "-18 & -14 & -2 & 0 \\\\\n",
       "-9 & -7 & 0 & 1 \\\\\n",
       "14 & 8 & 1 & -2\n",
       "\\end{array}\\right)\\)</html>"
      ],
      "text/latex": [
       "$\\displaystyle \\left(\\begin{array}{rrrr}\n",
       "-4 & 20 & 1 & 0 \\\\\n",
       "-18 & -14 & -2 & 0 \\\\\n",
       "-9 & -7 & 0 & 1 \\\\\n",
       "14 & 8 & 1 & -2\n",
       "\\end{array}\\right)$"
      ],
      "text/plain": [
       "[ -4  20   1   0]\n",
       "[-18 -14  -2   0]\n",
       "[ -9  -7   0   1]\n",
       "[ 14   8   1  -2]"
      ]
     },
     "metadata": {},
     "output_type": "display_data"
    },
    {
     "data": {
      "text/html": [
       "<html>\\(\\displaystyle C_2 \\leftarrow C_2 - 20C_3\\)</html>"
      ],
      "text/latex": [
       "$\\displaystyle C_2 \\leftarrow C_2 - 20C_3$"
      ],
      "text/plain": [
       "C_2 \\leftarrow C_2 - 20C_3"
      ]
     },
     "metadata": {},
     "output_type": "display_data"
    },
    {
     "data": {
      "text/html": [
       "<html>\\(\\displaystyle \\left(\\begin{array}{rrrr}\n",
       "-4 & 0 & 1 & 0 \\\\\n",
       "-18 & 26 & -2 & 0 \\\\\n",
       "-9 & -7 & 0 & 1 \\\\\n",
       "14 & -12 & 1 & -2\n",
       "\\end{array}\\right)\\)</html>"
      ],
      "text/latex": [
       "$\\displaystyle \\left(\\begin{array}{rrrr}\n",
       "-4 & 0 & 1 & 0 \\\\\n",
       "-18 & 26 & -2 & 0 \\\\\n",
       "-9 & -7 & 0 & 1 \\\\\n",
       "14 & -12 & 1 & -2\n",
       "\\end{array}\\right)$"
      ],
      "text/plain": [
       "[ -4   0   1   0]\n",
       "[-18  26  -2   0]\n",
       "[ -9  -7   0   1]\n",
       "[ 14 -12   1  -2]"
      ]
     },
     "metadata": {},
     "output_type": "display_data"
    },
    {
     "data": {
      "text/html": [
       "<html>\\(\\displaystyle C_1 \\leftarrow C_1 + 4C_3\\)</html>"
      ],
      "text/latex": [
       "$\\displaystyle C_1 \\leftarrow C_1 + 4C_3$"
      ],
      "text/plain": [
       "C_1 \\leftarrow C_1 + 4C_3"
      ]
     },
     "metadata": {},
     "output_type": "display_data"
    },
    {
     "data": {
      "text/html": [
       "<html>\\(\\displaystyle \\left(\\begin{array}{rrrr}\n",
       "0 & 0 & 1 & 0 \\\\\n",
       "-26 & 26 & -2 & 0 \\\\\n",
       "-9 & -7 & 0 & 1 \\\\\n",
       "18 & -12 & 1 & -2\n",
       "\\end{array}\\right)\\)</html>"
      ],
      "text/latex": [
       "$\\displaystyle \\left(\\begin{array}{rrrr}\n",
       "0 & 0 & 1 & 0 \\\\\n",
       "-26 & 26 & -2 & 0 \\\\\n",
       "-9 & -7 & 0 & 1 \\\\\n",
       "18 & -12 & 1 & -2\n",
       "\\end{array}\\right)$"
      ],
      "text/plain": [
       "[  0   0   1   0]\n",
       "[-26  26  -2   0]\n",
       "[ -9  -7   0   1]\n",
       "[ 18 -12   1  -2]"
      ]
     },
     "metadata": {},
     "output_type": "display_data"
    }
   ],
   "source": [
    "showm = lambda x: show(LatexExpr(x))\n",
    "\n",
    "Ksimplified = copy(K)\n",
    "showm(r\"C_4 \\leftarrow C_4 - 2C_3\")\n",
    "Ksimplified[:, 3] -= 2 * Ksimplified[:, 2]\n",
    "show(Ksimplified)\n",
    "showm(r\"C_2 \\leftarrow C_2 - 20C_3\")\n",
    "Ksimplified[:, 1] -= 20 * Ksimplified[:, 2]\n",
    "show(Ksimplified)\n",
    "showm(r\"C_1 \\leftarrow C_1 + 4C_3\")\n",
    "Ksimplified[:, 0] += 4 * Ksimplified[:, 2]\n",
    "show(Ksimplified)"
   ]
  },
  {
   "cell_type": "code",
   "execution_count": 5,
   "id": "605d9e8e-ba23-4dd6-8ff0-9ddd8a56ebb7",
   "metadata": {},
   "outputs": [],
   "source": [
    "def minor(mat, i, j):\n",
    "    \"\"\"Compute the minor of a given matrix at row i and column j\"\"\"\n",
    "    return mat.delete_rows([i]).delete_columns([j]).determinant()"
   ]
  },
  {
   "cell_type": "code",
   "execution_count": 6,
   "id": "7bd092b0-4b60-4ed8-b661-64aa6f5b8b4b",
   "metadata": {},
   "outputs": [
    {
     "data": {
      "text/html": [
       "<html>\\(\\displaystyle C^T= \\left(\\begin{array}{rrrr}\n",
       "26 & 26 & 52 & 26 \\\\\n",
       "-26 & 0 & 52 & 26 \\\\\n",
       "-156 & -364 & -1144 & -1248 \\\\\n",
       "52 & 234 & 156 & 416\n",
       "\\end{array}\\right)\\)</html>"
      ],
      "text/latex": [
       "$\\displaystyle C^T= \\left(\\begin{array}{rrrr}\n",
       "26 & 26 & 52 & 26 \\\\\n",
       "-26 & 0 & 52 & 26 \\\\\n",
       "-156 & -364 & -1144 & -1248 \\\\\n",
       "52 & 234 & 156 & 416\n",
       "\\end{array}\\right)$"
      ],
      "text/plain": [
       "C^T= [   26    26    52    26]\n",
       "[  -26     0    52    26]\n",
       "[ -156  -364 -1144 -1248]\n",
       "[   52   234   156   416]"
      ]
     },
     "metadata": {},
     "output_type": "display_data"
    },
    {
     "data": {
      "text/html": [
       "<html>\\(\\displaystyle K^{-1} = \\left(\\begin{array}{rrrr}\n",
       "-\\frac{1}{26} & -\\frac{1}{26} & -\\frac{1}{13} & -\\frac{1}{26} \\\\\n",
       "\\frac{1}{26} & 0 & -\\frac{1}{13} & -\\frac{1}{26} \\\\\n",
       "\\frac{3}{13} & \\frac{7}{13} & \\frac{22}{13} & \\frac{24}{13} \\\\\n",
       "-\\frac{1}{13} & -\\frac{9}{26} & -\\frac{3}{13} & -\\frac{8}{13}\n",
       "\\end{array}\\right)\\)</html>"
      ],
      "text/latex": [
       "$\\displaystyle K^{-1} = \\left(\\begin{array}{rrrr}\n",
       "-\\frac{1}{26} & -\\frac{1}{26} & -\\frac{1}{13} & -\\frac{1}{26} \\\\\n",
       "\\frac{1}{26} & 0 & -\\frac{1}{13} & -\\frac{1}{26} \\\\\n",
       "\\frac{3}{13} & \\frac{7}{13} & \\frac{22}{13} & \\frac{24}{13} \\\\\n",
       "-\\frac{1}{13} & -\\frac{9}{26} & -\\frac{3}{13} & -\\frac{8}{13}\n",
       "\\end{array}\\right)$"
      ],
      "text/plain": [
       "K^{-1} = [-1/26 -1/26 -1/13 -1/26]\n",
       "[ 1/26     0 -1/13 -1/26]\n",
       "[ 3/13  7/13 22/13 24/13]\n",
       "[-1/13 -9/26 -3/13 -8/13]"
      ]
     },
     "metadata": {},
     "output_type": "display_data"
    },
    {
     "data": {
      "text/html": [
       "<html>\\(\\displaystyle D^{-1} = \\left(\\begin{array}{rrrr}\n",
       "\\frac{1}{65} & 0 & 0 & 0 \\\\\n",
       "0 & -\\frac{1}{39} & 0 & 0 \\\\\n",
       "0 & 0 & \\frac{1}{13} & 0 \\\\\n",
       "0 & 0 & 0 & \\frac{1}{13}\n",
       "\\end{array}\\right)\\)</html>"
      ],
      "text/latex": [
       "$\\displaystyle D^{-1} = \\left(\\begin{array}{rrrr}\n",
       "\\frac{1}{65} & 0 & 0 & 0 \\\\\n",
       "0 & -\\frac{1}{39} & 0 & 0 \\\\\n",
       "0 & 0 & \\frac{1}{13} & 0 \\\\\n",
       "0 & 0 & 0 & \\frac{1}{13}\n",
       "\\end{array}\\right)$"
      ],
      "text/plain": [
       "D^{-1} = [ 1/65     0     0     0]\n",
       "[    0 -1/39     0     0]\n",
       "[    0     0  1/13     0]\n",
       "[    0     0     0  1/13]"
      ]
     },
     "metadata": {},
     "output_type": "display_data"
    }
   ],
   "source": [
    "def cofactor(mat):\n",
    "    \"\"\"Compute the cofactor matrix\"\"\"\n",
    "    result = M()\n",
    "    for i in range(0, mat.nrows()):\n",
    "        for j in range(0, mat.ncols()):\n",
    "            result[i,j] = pow(-1,(i+j)) * minor(mat, i, j)\n",
    "    return result\n",
    "adj = lambda x: cofactor(x).T\n",
    "\n",
    "adjK = adj(K)\n",
    "show(LatexExpr(\"C^T=\"),adjK)\n",
    "\n",
    "# Compute determinant of Ksimplified\n",
    "detK = pow(-1, 2) * minor(Ksimplified, 0, 2)\n",
    "\n",
    "Kinverse = adj(K) / detK\n",
    "assert Kinverse == K^(-1)\n",
    "show(LatexExpr(\"K^{-1} =\"), Kinverse)\n",
    "\n",
    "Dinverse = adj(D) / D.determinant()\n",
    "show(LatexExpr(\"D^{-1} =\"), Dinverse)"
   ]
  },
  {
   "cell_type": "code",
   "execution_count": 7,
   "id": "8c0cef12-952c-4aac-afc4-8bae4ef1cc65",
   "metadata": {},
   "outputs": [
    {
     "data": {
      "text/html": [
       "<html>\\(\\displaystyle A^{-1} = \\left(\\begin{array}{rrrr}\n",
       "-\\frac{29}{2535} & -\\frac{8}{845} & \\frac{352}{2535} & \\frac{176}{2535} \\\\\n",
       "\\frac{32}{2535} & \\frac{29}{845} & -\\frac{496}{2535} & -\\frac{248}{2535} \\\\\n",
       "\\frac{16}{2535} & -\\frac{18}{845} & -\\frac{53}{2535} & -\\frac{124}{2535} \\\\\n",
       "\\frac{4}{2535} & \\frac{28}{845} & \\frac{328}{2535} & \\frac{359}{2535}\n",
       "\\end{array}\\right)\\)</html>"
      ],
      "text/latex": [
       "$\\displaystyle A^{-1} = \\left(\\begin{array}{rrrr}\n",
       "-\\frac{29}{2535} & -\\frac{8}{845} & \\frac{352}{2535} & \\frac{176}{2535} \\\\\n",
       "\\frac{32}{2535} & \\frac{29}{845} & -\\frac{496}{2535} & -\\frac{248}{2535} \\\\\n",
       "\\frac{16}{2535} & -\\frac{18}{845} & -\\frac{53}{2535} & -\\frac{124}{2535} \\\\\n",
       "\\frac{4}{2535} & \\frac{28}{845} & \\frac{328}{2535} & \\frac{359}{2535}\n",
       "\\end{array}\\right)$"
      ],
      "text/plain": [
       "A^{-1} = [ -29/2535    -8/845  352/2535  176/2535]\n",
       "[  32/2535    29/845 -496/2535 -248/2535]\n",
       "[  16/2535   -18/845  -53/2535 -124/2535]\n",
       "[   4/2535    28/845  328/2535  359/2535]"
      ]
     },
     "metadata": {},
     "output_type": "display_data"
    }
   ],
   "source": [
    "Ainverse = K * Dinverse * Kinverse\n",
    "show(LatexExpr(\"A^{-1} =\"), Ainverse)"
   ]
  },
  {
   "cell_type": "code",
   "execution_count": 8,
   "id": "44bc6f32-5fd5-47a3-bf2c-3bfe428a7eb4",
   "metadata": {},
   "outputs": [],
   "source": [
    "x = Ainverse * B"
   ]
  },
  {
   "cell_type": "code",
   "execution_count": 9,
   "id": "0b6964c9-c133-46cb-98db-8322d61ef339",
   "metadata": {},
   "outputs": [
    {
     "data": {
      "text/html": [
       "<html>\\(\\displaystyle x = \\left(\\frac{592}{845},\\,-\\frac{911}{845},\\,-\\frac{33}{845},\\,\\frac{593}{845}\\right)\\)</html>"
      ],
      "text/latex": [
       "$\\displaystyle x = \\left(\\frac{592}{845},\\,-\\frac{911}{845},\\,-\\frac{33}{845},\\,\\frac{593}{845}\\right)$"
      ],
      "text/plain": [
       "x = (592/845, -911/845, -33/845, 593/845)"
      ]
     },
     "metadata": {},
     "output_type": "display_data"
    }
   ],
   "source": [
    "show(LatexExpr(\"x =\"), x)"
   ]
  },
  {
   "cell_type": "code",
   "execution_count": 10,
   "id": "c7395533-b96f-4404-92d1-b25a6ab8dfd9",
   "metadata": {
    "scrolled": true
   },
   "outputs": [
    {
     "name": "stdout",
     "output_type": "stream",
     "text": [
      "Checking with Sage's automatic solution...\n",
      "Assertion passed, solution is correct\n"
     ]
    }
   ],
   "source": [
    "print(\"Checking with Sage's automatic solution...\")\n",
    "assert x == A.solve_right(B)\n",
    "print(\"Assertion passed, solution is correct\")"
   ]
  },
  {
   "cell_type": "code",
   "execution_count": null,
   "id": "6f24430b-dcfb-4caf-8103-96957b5a65e9",
   "metadata": {},
   "outputs": [],
   "source": []
  }
 ],
 "metadata": {
  "kernelspec": {
   "display_name": "SageMath 10.3",
   "language": "sage",
   "name": "sagemath"
  },
  "language_info": {
   "codemirror_mode": {
    "name": "ipython",
    "version": 3
   },
   "file_extension": ".py",
   "mimetype": "text/x-python",
   "name": "python",
   "nbconvert_exporter": "python",
   "pygments_lexer": "ipython3",
   "version": "3.11.1"
  }
 },
 "nbformat": 4,
 "nbformat_minor": 5
}
