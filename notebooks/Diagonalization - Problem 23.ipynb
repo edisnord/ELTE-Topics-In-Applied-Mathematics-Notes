{
 "cells": [
  {
   "cell_type": "markdown",
   "id": "c0505f19-99f5-4c5e-97b1-89c5ae7cf074",
   "metadata": {},
   "source": [
    "# Problem 23\n",
    "\n",
    "Show that the matrix A is not diagonalizable."
   ]
  },
  {
   "cell_type": "code",
   "execution_count": 1,
   "id": "cbae7d5d-e27a-40aa-bdf2-9b0f98be5052",
   "metadata": {},
   "outputs": [
    {
     "data": {
      "text/html": [
       "<html>\\(\\displaystyle A:= \\left(\\begin{array}{rr}\n",
       "0 & 1 \\\\\n",
       "0 & 0\n",
       "\\end{array}\\right)\\)</html>"
      ],
      "text/latex": [
       "$\\displaystyle A:= \\left(\\begin{array}{rr}\n",
       "0 & 1 \\\\\n",
       "0 & 0\n",
       "\\end{array}\\right)$"
      ],
      "text/plain": [
       "A:= [0 1]\n",
       "[0 0]"
      ]
     },
     "metadata": {},
     "output_type": "display_data"
    }
   ],
   "source": [
    "showp = lambda x, y: show(LatexExpr(x), y)\n",
    "M = MatrixSpace(QQ, 2, 2)\n",
    "A = matrix(QQ, [[0,1],[0,0]])\n",
    "showp(\"A:=\", A)"
   ]
  },
  {
   "cell_type": "markdown",
   "id": "1e98cfb0-41f9-4781-91c1-86440b16559b",
   "metadata": {},
   "source": [
    "## Step 1: Show non-diagonalizability\n",
    "\n",
    "$A \\text{ is diagonalizable} \\iff \\forall\\lambda \\in \\sigma(A), \\text{a.m.}(\\lambda) = \\text{g.m.}(\\lambda)$\n",
    "\n",
    "So we have to prove that the algebraic multiplicity of A's eigenvalues $!=$ their geometric multiplicities"
   ]
  },
  {
   "cell_type": "code",
   "execution_count": 2,
   "id": "143ad82c-636d-409d-9103-468905808d40",
   "metadata": {},
   "outputs": [
    {
     "data": {
      "text/html": [
       "<html>\\(\\displaystyle \\text{Characteristic polynomial of } A: {\\lambda}^{2}\\)</html>"
      ],
      "text/latex": [
       "$\\displaystyle \\text{Characteristic polynomial of } A: {\\lambda}^{2}$"
      ],
      "text/plain": [
       "\\text{Characteristic polynomial of } A: l^2"
      ]
     },
     "metadata": {},
     "output_type": "display_data"
    }
   ],
   "source": [
    "# l is the variable lambda\n",
    "l = var('l', latex_name=r'\\lambda')\n",
    "# compute A - lambda * I\n",
    "AmlI = A - l*M.identity_matrix()\n",
    "\n",
    "# Create characteristic polynomial\n",
    "p(l) = AmlI.determinant()\n",
    "\n",
    "showp(r\"\\text{Characteristic polynomial of } A:\" ,p(l).expand())"
   ]
  },
  {
   "cell_type": "markdown",
   "id": "6a783b91-fe17-4c6f-b1ff-41d65a56ffcc",
   "metadata": {},
   "source": [
    "The only solution for $\\lambda^2 = 0$ is $\\lambda = 0$, so we have $\\lambda_1 = 0, \\lambda_2 = 0$. $\\text{a.m(0)} = 2$.\n",
    "\n",
    "Below we'll compute the eigenvectors for $\\lambda = 0$, and get the geometric multiplicity."
   ]
  },
  {
   "cell_type": "code",
   "execution_count": 3,
   "id": "10a66408-65e9-4f22-8afc-20a14e507756",
   "metadata": {},
   "outputs": [
    {
     "data": {
      "text/html": [
       "<html>\\(\\displaystyle \\left(\\begin{array}{rr}\n",
       "-{\\lambda} & 1 \\\\\n",
       "0 & -{\\lambda}\n",
       "\\end{array}\\right) \\left(\\begin{array}{r}\n",
       "x \\\\\n",
       "y\n",
       "\\end{array}\\right) = \\left(\\begin{array}{r}\n",
       "0 \\\\\n",
       "0\n",
       "\\end{array}\\right)\\)</html>"
      ],
      "text/latex": [
       "$\\displaystyle \\left(\\begin{array}{rr}\n",
       "-{\\lambda} & 1 \\\\\n",
       "0 & -{\\lambda}\n",
       "\\end{array}\\right) \\left(\\begin{array}{r}\n",
       "x \\\\\n",
       "y\n",
       "\\end{array}\\right) = \\left(\\begin{array}{r}\n",
       "0 \\\\\n",
       "0\n",
       "\\end{array}\\right)$"
      ],
      "text/plain": [
       "[-l  1]\n",
       "[ 0 -l] [x]\n",
       "[y] = [0]\n",
       "[0]"
      ]
     },
     "metadata": {},
     "output_type": "display_data"
    }
   ],
   "source": [
    "x,y = var('x,y')\n",
    "show(AmlI, matrix([[x], [y]]), LatexExpr(\"=\"), matrix([[0], [0]]))"
   ]
  },
  {
   "cell_type": "code",
   "execution_count": 6,
   "id": "283bbe48-4da6-416e-9340-272736262fff",
   "metadata": {},
   "outputs": [
    {
     "data": {
      "text/html": [
       "<html>\\(\\displaystyle \\lambda = 0\\)</html>"
      ],
      "text/latex": [
       "$\\displaystyle \\lambda = 0$"
      ],
      "text/plain": [
       "\\lambda = 0"
      ]
     },
     "metadata": {},
     "output_type": "display_data"
    },
    {
     "data": {
      "text/html": [
       "<html>\\(\\displaystyle \\text{Eigenvector: } \\left(v_{1},\\,0\\right)\\)</html>"
      ],
      "text/latex": [
       "$\\displaystyle \\text{Eigenvector: } \\left(v_{1},\\,0\\right)$"
      ],
      "text/plain": [
       "\\text{Eigenvector: } (v1, 0)"
      ]
     },
     "metadata": {},
     "output_type": "display_data"
    },
    {
     "data": {
      "text/html": [
       "<html>\\(\\displaystyle \\text{Geometric Multiplicity: } 1\\)</html>"
      ],
      "text/latex": [
       "$\\displaystyle \\text{Geometric Multiplicity: } 1$"
      ],
      "text/plain": [
       "\\text{Geometric Multiplicity: } 1"
      ]
     },
     "metadata": {},
     "output_type": "display_data"
    }
   ],
   "source": [
    "def compute_eigenvectors(mat, eigenval):\n",
    "    L = mat(l=eigenval)\n",
    "    Lxy = L * matrix([[x], [y]])\n",
    "    sol = solve([p[0] for p in Lxy], x, y)\n",
    "    dummy_vars = set()\n",
    "    for s in sol[0]:\n",
    "        dummy_vars = dummy_vars.union(set(s.variables()))\n",
    "    dummy_vars -= set([x,y])\n",
    "    show(LatexExpr(r\"\\lambda = \" + str(eigenval)))\n",
    "    if len(dummy_vars) > 1:\n",
    "        subs_map = {}\n",
    "        for i, dummy in enumerate(dummy_vars):\n",
    "            subs_map.update({dummy: var(f'v{i+1}')})\n",
    "        print(f\"Geometric multiplicity is: {len(dummy_vars)}\")\n",
    "        sol = vector([s.subs(subs_map).rhs() for s in sol[0]])\n",
    "        show(sol)\n",
    "        return sol, len(subs_map.keys())\n",
    "    else:\n",
    "        v1 = var('v1')\n",
    "        dummy = dummy_vars.pop()\n",
    "        sol = vector([s.subs({dummy: v1}).rhs() for s in sol[0]])\n",
    "        return sol, 1\n",
    "\n",
    "eigvec, mult = compute_eigenvectors(AmlI, 0)\n",
    "\n",
    "showp(r\"\\text{Eigenvector: }\", eigvec)\n",
    "showp(r\"\\text{Geometric Multiplicity: }\", mult)\n",
    "\n",
    "if "
   ]
  },
  {
   "cell_type": "markdown",
   "id": "c62621df-f824-4820-8e3f-f7fdf09fd2b9",
   "metadata": {},
   "source": [
    "Clearly, the geometric multiplicty $\\neq$ the algebraic multiplicity of $\\lambda = 0$, therefore the matrix $A$ is not diagonalizable."
   ]
  },
  {
   "cell_type": "code",
   "execution_count": null,
   "id": "d2e88c30-d4ff-4c4d-80fc-d6c9c49de7ec",
   "metadata": {},
   "outputs": [],
   "source": []
  }
 ],
 "metadata": {
  "kernelspec": {
   "display_name": "SageMath 10.3",
   "language": "sage",
   "name": "sagemath"
  },
  "language_info": {
   "codemirror_mode": {
    "name": "ipython",
    "version": 3
   },
   "file_extension": ".py",
   "mimetype": "text/x-python",
   "name": "python",
   "nbconvert_exporter": "python",
   "pygments_lexer": "ipython3",
   "version": "3.11.1"
  }
 },
 "nbformat": 4,
 "nbformat_minor": 5
}
