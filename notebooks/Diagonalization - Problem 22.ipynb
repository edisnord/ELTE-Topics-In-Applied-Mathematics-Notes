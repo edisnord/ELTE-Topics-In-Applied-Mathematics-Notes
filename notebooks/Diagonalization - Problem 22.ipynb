{
 "cells": [
  {
   "cell_type": "markdown",
   "id": "0ccb1052-fa73-43e0-b38e-0800c4a8091d",
   "metadata": {},
   "source": [
    "# Problem 22"
   ]
  },
  {
   "cell_type": "code",
   "execution_count": 1,
   "id": "4e3a3cba-ae79-497b-8754-9774eb41c7a0",
   "metadata": {},
   "outputs": [
    {
     "data": {
      "text/html": [
       "<html>\\(\\displaystyle \\newcommand{\\Bold}[1]{\\mathbf{#1}}\\mathrm{Mat}_{4\\times 4}(\\Bold{Q})\\)</html>"
      ],
      "text/latex": [
       "$\\displaystyle \\newcommand{\\Bold}[1]{\\mathbf{#1}}\\mathrm{Mat}_{4\\times 4}(\\Bold{Q})$"
      ],
      "text/plain": [
       "\\mathrm{Mat}_{4\\times 4}(\\Bold{Q})"
      ]
     },
     "metadata": {},
     "output_type": "display_data"
    },
    {
     "data": {
      "text/html": [
       "<html>\\(\\displaystyle A := \\left(\\begin{array}{rrrr}\n",
       "-19 & 8 & 96 & 48 \\\\\n",
       "64 & 49 & 16 & 8 \\\\\n",
       "32 & 18 & 21 & 4 \\\\\n",
       "-44 & -28 & -24 & 1\n",
       "\\end{array}\\right)\\)</html>"
      ],
      "text/latex": [
       "$\\displaystyle A := \\left(\\begin{array}{rrrr}\n",
       "-19 & 8 & 96 & 48 \\\\\n",
       "64 & 49 & 16 & 8 \\\\\n",
       "32 & 18 & 21 & 4 \\\\\n",
       "-44 & -28 & -24 & 1\n",
       "\\end{array}\\right)$"
      ],
      "text/plain": [
       "A := [-19   8  96  48]\n",
       "[ 64  49  16   8]\n",
       "[ 32  18  21   4]\n",
       "[-44 -28 -24   1]"
      ]
     },
     "metadata": {},
     "output_type": "display_data"
    }
   ],
   "source": [
    "M = MatrixSpace(QQ, 4, 4, sparse=False)\n",
    "V = VectorSpace(QQ, 4)\n",
    "show(latex(M))\n",
    "A = M([-19, 8, 96, 48, 64, 49, 16, 8, 32, 18, 21, 4, -44, -28, -24, 1])\n",
    "show(LatexExpr(\"A :=\"), A)"
   ]
  },
  {
   "cell_type": "markdown",
   "id": "69db54cd-742b-4061-9a46-53c481b185cf",
   "metadata": {},
   "source": [
    "Show that $A$ is diagonalizable then find its eigendecomposition $A = KDK^{-1}$ "
   ]
  },
  {
   "cell_type": "markdown",
   "id": "4f6824a8-ff7d-4fc7-9d90-76be3ebc25ae",
   "metadata": {},
   "source": [
    "## Step 1: Show diagonalizability\n",
    "\n",
    "$A \\text{ is diagonalizable} \\iff \\forall\\lambda \\in \\sigma(A), a.m.(\\lambda) = g.m.(\\lambda)$"
   ]
  },
  {
   "cell_type": "code",
   "execution_count": 2,
   "id": "0c52f9ae-61dc-463a-b21a-7a555004ee1d",
   "metadata": {},
   "outputs": [
    {
     "data": {
      "text/html": [
       "<html>\\(\\displaystyle \\text{Characteristic polynomial of } A: {\\lambda}^{4} - 52 \\, {\\lambda}^{3} - 1690 \\, {\\lambda}^{2} + 61516 \\, {\\lambda} - 428415\\)</html>"
      ],
      "text/latex": [
       "$\\displaystyle \\text{Characteristic polynomial of } A: {\\lambda}^{4} - 52 \\, {\\lambda}^{3} - 1690 \\, {\\lambda}^{2} + 61516 \\, {\\lambda} - 428415$"
      ],
      "text/plain": [
       "\\text{Characteristic polynomial of } A: l^4 - 52*l^3 - 1690*l^2 + 61516*l - 428415"
      ]
     },
     "metadata": {},
     "output_type": "display_data"
    }
   ],
   "source": [
    "showp = lambda x, y: show(LatexExpr(x), y)\n",
    "l = var('l', latex_name=r'\\lambda')\n",
    "# compute A - lambda * I\n",
    "AmlI = A - l*M.identity_matrix()\n",
    "\n",
    "# Create characteristic polynomial\n",
    "p(l) = AmlI.determinant()\n",
    "\n",
    "showp(r\"\\text{Characteristic polynomial of } A:\" ,p(l).expand())"
   ]
  },
  {
   "cell_type": "code",
   "execution_count": 3,
   "id": "c2fa3add-30da-4eba-97db-3f63e16d71a0",
   "metadata": {},
   "outputs": [
    {
     "data": {
      "text/html": [
       "<html>\\(\\displaystyle {\\lambda} \\ {\\mapsto}\\ {\\left({\\lambda} + 39\\right)} {\\left({\\lambda} - 13\\right)}^{2} {\\left({\\lambda} - 65\\right)}\\)</html>"
      ],
      "text/latex": [
       "$\\displaystyle {\\lambda} \\ {\\mapsto}\\ {\\left({\\lambda} + 39\\right)} {\\left({\\lambda} - 13\\right)}^{2} {\\left({\\lambda} - 65\\right)}$"
      ],
      "text/plain": [
       "l |--> (l + 39)*(l - 13)^2*(l - 65)"
      ]
     },
     "metadata": {},
     "output_type": "display_data"
    }
   ],
   "source": [
    "show(p.factor())"
   ]
  },
  {
   "cell_type": "markdown",
   "id": "1bdcd19b-d515-4614-9adc-ed9a55b3be5d",
   "metadata": {},
   "source": [
    "The eigenvalues are: $-39, 13, 13, 65$, and their algebraic multiplicites are $1,2,2,1$.\n",
    "\n",
    "We now find the eigenvectors by solving the equation below:"
   ]
  },
  {
   "cell_type": "code",
   "execution_count": 4,
   "id": "c54232c3-f098-4f81-a73c-3fedf4df7bd7",
   "metadata": {},
   "outputs": [
    {
     "data": {
      "text/html": [
       "<html>\\(\\displaystyle \\left(\\begin{array}{rrrr}\n",
       "-{\\lambda} - 19 & 8 & 96 & 48 \\\\\n",
       "64 & -{\\lambda} + 49 & 16 & 8 \\\\\n",
       "32 & 18 & -{\\lambda} + 21 & 4 \\\\\n",
       "-44 & -28 & -24 & -{\\lambda} + 1\n",
       "\\end{array}\\right) \\left(\\begin{array}{r}\n",
       "w \\\\\n",
       "x \\\\\n",
       "y \\\\\n",
       "z\n",
       "\\end{array}\\right) = \\left(\\begin{array}{r}\n",
       "0 \\\\\n",
       "0 \\\\\n",
       "0 \\\\\n",
       "0\n",
       "\\end{array}\\right)\\)</html>"
      ],
      "text/latex": [
       "$\\displaystyle \\left(\\begin{array}{rrrr}\n",
       "-{\\lambda} - 19 & 8 & 96 & 48 \\\\\n",
       "64 & -{\\lambda} + 49 & 16 & 8 \\\\\n",
       "32 & 18 & -{\\lambda} + 21 & 4 \\\\\n",
       "-44 & -28 & -24 & -{\\lambda} + 1\n",
       "\\end{array}\\right) \\left(\\begin{array}{r}\n",
       "w \\\\\n",
       "x \\\\\n",
       "y \\\\\n",
       "z\n",
       "\\end{array}\\right) = \\left(\\begin{array}{r}\n",
       "0 \\\\\n",
       "0 \\\\\n",
       "0 \\\\\n",
       "0\n",
       "\\end{array}\\right)$"
      ],
      "text/plain": [
       "[-l - 19       8      96      48]\n",
       "[     64 -l + 49      16       8]\n",
       "[     32      18 -l + 21       4]\n",
       "[    -44     -28     -24  -l + 1] [w]\n",
       "[x]\n",
       "[y]\n",
       "[z] = [0]\n",
       "[0]\n",
       "[0]\n",
       "[0]"
      ]
     },
     "metadata": {},
     "output_type": "display_data"
    }
   ],
   "source": [
    "w, x, y, z = var('w,x,y,z')\n",
    "show(AmlI, matrix([[w], [x], [y], [z]]), LatexExpr(\"=\"), matrix([[0], [0], [0], [0]]))"
   ]
  },
  {
   "cell_type": "code",
   "execution_count": 7,
   "id": "3dfa2c9d-7609-45aa-aacc-744141819ae5",
   "metadata": {},
   "outputs": [
    {
     "data": {
      "text/html": [
       "<html>\\(\\displaystyle \\lambda = 65\\)</html>"
      ],
      "text/latex": [
       "$\\displaystyle \\lambda = 65$"
      ],
      "text/plain": [
       "\\lambda = 65"
      ]
     },
     "metadata": {},
     "output_type": "display_data"
    },
    {
     "data": {
      "text/html": [
       "<html>\\(\\displaystyle \\left(-\\frac{2}{7} \\, v_{1},\\,-\\frac{9}{7} \\, v_{1},\\,-\\frac{9}{14} \\, v_{1},\\,v_{1}\\right)\\)</html>"
      ],
      "text/latex": [
       "$\\displaystyle \\left(-\\frac{2}{7} \\, v_{1},\\,-\\frac{9}{7} \\, v_{1},\\,-\\frac{9}{14} \\, v_{1},\\,v_{1}\\right)$"
      ],
      "text/plain": [
       "(-2/7*v1, -9/7*v1, -9/14*v1, v1)"
      ]
     },
     "metadata": {},
     "output_type": "display_data"
    },
    {
     "data": {
      "text/html": [
       "<html>\\(\\displaystyle \\lambda = -39\\)</html>"
      ],
      "text/latex": [
       "$\\displaystyle \\lambda = -39$"
      ],
      "text/plain": [
       "\\lambda = -39"
      ]
     },
     "metadata": {},
     "output_type": "display_data"
    },
    {
     "data": {
      "text/html": [
       "<html>\\(\\displaystyle \\left(\\frac{5}{2} \\, v_{1},\\,-\\frac{7}{4} \\, v_{1},\\,-\\frac{7}{8} \\, v_{1},\\,v_{1}\\right)\\)</html>"
      ],
      "text/latex": [
       "$\\displaystyle \\left(\\frac{5}{2} \\, v_{1},\\,-\\frac{7}{4} \\, v_{1},\\,-\\frac{7}{8} \\, v_{1},\\,v_{1}\\right)$"
      ],
      "text/plain": [
       "(5/2*v1, -7/4*v1, -7/8*v1, v1)"
      ]
     },
     "metadata": {},
     "output_type": "display_data"
    },
    {
     "data": {
      "text/html": [
       "<html>\\(\\displaystyle \\lambda = 13\\)</html>"
      ],
      "text/latex": [
       "$\\displaystyle \\lambda = 13$"
      ],
      "text/plain": [
       "\\lambda = 13"
      ]
     },
     "metadata": {},
     "output_type": "display_data"
    },
    {
     "name": "stdout",
     "output_type": "stream",
     "text": [
      "Geometric multiplicity is: 2\n"
     ]
    },
    {
     "data": {
      "text/html": [
       "<html>\\(\\displaystyle \\left(2 \\, v_{1} + v_{2},\\,-4 \\, v_{1} - 2 \\, v_{2},\\,v_{1},\\,v_{2}\\right)\\)</html>"
      ],
      "text/latex": [
       "$\\displaystyle \\left(2 \\, v_{1} + v_{2},\\,-4 \\, v_{1} - 2 \\, v_{2},\\,v_{1},\\,v_{2}\\right)$"
      ],
      "text/plain": [
       "(2*v1 + v2, -4*v1 - 2*v2, v1, v2)"
      ]
     },
     "metadata": {},
     "output_type": "display_data"
    },
    {
     "name": "stdout",
     "output_type": "stream",
     "text": [
      "Eigenvectors computed\n",
      "Asserts passed, matrix is diagonalizable\n"
     ]
    }
   ],
   "source": [
    "def compute_eigenvectors(mat, eigenval):\n",
    "    L = mat(l=eigenval)\n",
    "\n",
    "    Lwxyz = L * matrix([[w], [x], [y], [z]])\n",
    "    sol = solve([p[0] for p in Lwxyz], w, x, y ,z)\n",
    "    dummy_vars = set()\n",
    "    for s in sol[0]:\n",
    "        dummy_vars = dummy_vars.union(set(s.variables()))\n",
    "    dummy_vars -= set([w,x,y,z])\n",
    "    # dummy_vars = set([*sol[0][0].variables(), *sol[0][1].variables(), *sol[0][2].variables(), *sol[0][3].variables()]) - set([x, y, z, w])\n",
    "    show(LatexExpr(r\"\\lambda = \" + str(eigenval)))\n",
    "    if len(dummy_vars) > 1:\n",
    "        subs_map = {}\n",
    "        for i, dummy in enumerate(dummy_vars):\n",
    "            subs_map.update({dummy: var(f'v{i+1}')})\n",
    "        print(f\"Geometric multiplicity is: {len(dummy_vars)}\")\n",
    "        sol = vector([s.subs(subs_map).rhs() for s in sol[0]])\n",
    "        show(sol)\n",
    "        return sol, len(subs_map.keys())\n",
    "    else:\n",
    "        v1 = var('v1')\n",
    "        dummy = dummy_vars.pop()\n",
    "        sol = vector([s.subs({dummy: v1}).rhs() for s in sol[0]])\n",
    "        show(sol)\n",
    "        return sol, 1\n",
    "    \n",
    "el1, multiplicity1 = compute_eigenvectors(AmlI, 65)\n",
    "el2, multiplicity2 = compute_eigenvectors(AmlI, -39)\n",
    "el3, multiplicity3 = compute_eigenvectors(AmlI, 13)\n",
    "\n",
    "print(\"Eigenvectors computed\")\n",
    "\n",
    "assert multiplicity1 == 1\n",
    "assert multiplicity2 == 1\n",
    "assert multiplicity3 == 2\n",
    "assert A.is_diagonalizable() # sanity check for my code :P\n",
    "\n",
    "print(\"Asserts passed, matrix is diagonalizable\")"
   ]
  },
  {
   "cell_type": "code",
   "execution_count": null,
   "id": "d71ffd28-c667-40eb-9bc2-2c66b946ccbe",
   "metadata": {},
   "outputs": [],
   "source": []
  },
  {
   "cell_type": "code",
   "execution_count": null,
   "id": "5b9dcabf-02ed-4f28-a61c-5627aa81f365",
   "metadata": {},
   "outputs": [],
   "source": [
    "# Check with Sage solution\n",
    "assert A * el1 == 65 * el1\n",
    "assert A * el2 == -39 * el2\n",
    "# lambda 13, vector 1\n",
    "assert A * el3(v1=0) == A * el3(v1=0)\n",
    "# lambda 13, vector 2\n",
    "assert A * el3(v2=0) == A * el3(v2=0)\n",
    "print(\"Asserts passed, eigenvectors are correct\")"
   ]
  },
  {
   "cell_type": "markdown",
   "id": "f4d8c99e-2736-4c16-8bc5-61120d1f04e5",
   "metadata": {},
   "source": [
    "Now that we have all the eigenvalues and eigenvectors, we can build $K, D$ and $K^{-1}$. $K$'s columns are\n",
    "eigenvectors, and $D$ is a diagonal matrix whose diagonal entries are the eigenvalues of the matrix"
   ]
  },
  {
   "cell_type": "code",
   "execution_count": null,
   "id": "a8c1c257-a5d8-4e98-b176-74bc128df769",
   "metadata": {},
   "outputs": [],
   "source": [
    "D = M.diagonal_matrix([65, -39, 13, 13])\n",
    "# I'm rescaling below to fit the eigenvectors in TAM_ex.pdf\n",
    "K = M([el1(v1=7 * 4/2), el2(v1=2 * 20 / 5), el3(v1=1,v2=0), el3(v1=0,v2=1)]).T\n",
    "showp(\"K =\", K)\n",
    "showp(\"D =\", D)"
   ]
  },
  {
   "cell_type": "markdown",
   "id": "363f2f64-395b-4e89-95d4-4bad93bacb66",
   "metadata": {},
   "source": [
    "We only know K and D, so we need to compute $K^{-1}$ and $D^{-1}$. We'll invert K using the adjunct matrix method:\n",
    "\n",
    "$$\n",
    "    A^{-1} = \\frac{1}{det(A)}C^T\n",
    "$$\n",
    "\n",
    "Where $C$ is the cofactor matrix of A. $C^T = \\text{adj}(A)$\n",
    "\n",
    "First, let's compute the determinant of K. We simplify the matrix first so that we only need to compute only one the minors of the first row instead of the usual 4."
   ]
  },
  {
   "cell_type": "code",
   "execution_count": null,
   "id": "65d13604-559d-4134-b6e2-b146cfa8db2e",
   "metadata": {},
   "outputs": [],
   "source": [
    "showm = lambda x: show(LatexExpr(x))\n",
    "\n",
    "Ksimplified = copy(K)\n",
    "showm(r\"C_4 \\leftarrow C_4 - 2C_3\")\n",
    "Ksimplified[:, 3] -= 2 * Ksimplified[:, 2]\n",
    "show(Ksimplified)\n",
    "showm(r\"C_2 \\leftarrow C_2 - 20C_3\")\n",
    "Ksimplified[:, 1] -= 20 * Ksimplified[:, 2]\n",
    "show(Ksimplified)\n",
    "showm(r\"C_1 \\leftarrow C_1 + 4C_3\")\n",
    "Ksimplified[:, 0] += 4 * Ksimplified[:, 2]\n",
    "show(Ksimplified)"
   ]
  },
  {
   "cell_type": "code",
   "execution_count": null,
   "id": "d39538c0-def0-4111-8c5b-b325c1b93b25",
   "metadata": {},
   "outputs": [],
   "source": [
    "def minor(mat, i, j):\n",
    "    \"\"\"Compute the minor of a given matrix at row i and column j\"\"\"\n",
    "    return mat.delete_rows([i]).delete_columns([j]).determinant()\n",
    "\n",
    "detK = pow(-1, 2) * minor(Ksimplified, 0, 2) # Because other 1st row entries are 0, we only use the minor in the 3rd column\n",
    "assert detK == Ksimplified.determinant()"
   ]
  },
  {
   "cell_type": "code",
   "execution_count": null,
   "id": "12e1ebd1-e4c1-4331-badd-25cf8dac2122",
   "metadata": {},
   "outputs": [],
   "source": [
    "def cofactor(mat):\n",
    "    \"\"\"Compute the cofactor matrix\"\"\"\n",
    "    result = M()\n",
    "    for i in range(0, mat.nrows()):\n",
    "        for j in range(0, mat.ncols()):\n",
    "            result[i,j] = pow(-1,(i+j)) * minor(mat, i, j)\n",
    "    return result\n",
    "\n",
    "def adj(mat):\n",
    "    \"\"\"Compute the adjunct matrix of mat\"\"\"\n",
    "    return cofactor(mat).T\n",
    "\n",
    "adjK = adj(K)\n",
    "assert adjK == K.adjugate()"
   ]
  },
  {
   "cell_type": "code",
   "execution_count": null,
   "id": "57659eb9-987d-4f24-900a-ff78e0e65658",
   "metadata": {},
   "outputs": [],
   "source": [
    "invK = adjK / detK\n",
    "assert invK == K.inverse()"
   ]
  },
  {
   "cell_type": "markdown",
   "id": "a6c21061-a886-4dd4-91c0-0083b8a3b985",
   "metadata": {},
   "source": [
    "The solution to the exercise is:\n",
    "$A = KDK^{-1}$"
   ]
  },
  {
   "cell_type": "code",
   "execution_count": null,
   "id": "544980de-1901-4ec6-82ae-ec41b05c1d9f",
   "metadata": {},
   "outputs": [],
   "source": [
    "show(A, LatexExpr(\"=\"), K, D, invK)"
   ]
  }
 ],
 "metadata": {
  "kernelspec": {
   "display_name": "SageMath 10.3",
   "language": "sage",
   "name": "sagemath"
  },
  "language_info": {
   "codemirror_mode": {
    "name": "ipython",
    "version": 3
   },
   "file_extension": ".py",
   "mimetype": "text/x-python",
   "name": "python",
   "nbconvert_exporter": "python",
   "pygments_lexer": "ipython3",
   "version": "3.11.1"
  }
 },
 "nbformat": 4,
 "nbformat_minor": 5
}
